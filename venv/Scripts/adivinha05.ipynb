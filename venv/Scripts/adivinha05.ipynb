{
 "cells": [
  {
   "cell_type": "code",
   "execution_count": null,
   "metadata": {},
   "outputs": [],
   "source": [
    "import random\n",
    "help(random.randint)"
   ]
  },
  {
   "cell_type": "code",
   "execution_count": null,
   "metadata": {},
   "outputs": [],
   "source": [
    "random.randint(1,100)"
   ]
  },
  {
   "cell_type": "code",
   "execution_count": 1,
   "metadata": {},
   "outputs": [],
   "source": [
    "import random\n",
    "numero = random.randint(1, 100)"
   ]
  },
  {
   "cell_type": "code",
   "execution_count": 2,
   "metadata": {},
   "outputs": [
    {
     "name": "stdout",
     "output_type": "stream",
     "text": [
      "Digite um número entre 0 e 100: 10\n",
      "Você errou, o valor é menor (está frio)\n",
      "Digite um número entre 0 e 100: 9\n",
      "Você errou, o valor é menor (está frio)\n",
      "Digite um número entre 0 e 100: 2\n",
      "Você errou, o valor é menor (está frio)\n",
      "Digite um número entre 0 e 100: 1\n",
      "Você errou, o valor é menor (está frio)\n",
      "Digite um número entre 0 e 100: 50\n",
      "Você errou, o valor é menor (está quente)\n",
      "O número é: 43 \n"
     ]
    }
   ],
   "source": [
    "contador = 0\n",
    "while contador < 5:\n",
    "    chute = input('Digite um número entre 0 e 100: ')\n",
    "    chute = int(chute)\n",
    "    diferenca = numero - chute \n",
    "    if diferenca == 0:\n",
    "        print('Você acertou!')\n",
    "        break\n",
    "    elif diferenca > 0:\n",
    "        if diferenca <= 10:\n",
    "            print(\"Você errou, o valor é maior (está quente)\")\n",
    "        else:\n",
    "            print(\"Você errou, o valor é menor (está frio)\")\n",
    "    else:\n",
    "        if abs(diferenca) <= 10:\n",
    "            print(\"Você errou, o valor é menor (está quente)\")\n",
    "        else:\n",
    "            print(\"Você errou, o valor é maior (está frio)\")\n",
    "    contador = contador + 1\n",
    "print(\"O número é: %s \" % numero)"
   ]
  },
  {
   "cell_type": "code",
   "execution_count": null,
   "metadata": {},
   "outputs": [],
   "source": []
  }
 ],
 "metadata": {
  "kernelspec": {
   "display_name": "Python 3",
   "language": "python",
   "name": "python3"
  },
  "language_info": {
   "codemirror_mode": {
    "name": "ipython",
    "version": 3
   },
   "file_extension": ".py",
   "mimetype": "text/x-python",
   "name": "python",
   "nbconvert_exporter": "python",
   "pygments_lexer": "ipython3",
   "version": "3.7.2"
  }
 },
 "nbformat": 4,
 "nbformat_minor": 4
}
