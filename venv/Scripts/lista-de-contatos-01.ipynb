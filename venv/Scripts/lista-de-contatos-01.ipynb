{
 "cells": [
  {
   "cell_type": "code",
   "execution_count": 1,
   "metadata": {},
   "outputs": [],
   "source": [
    "def criar_contato():\n",
    "    print('Informe os dados de cadastro')\n",
    "    nome = input('Nome: ')\n",
    "    email = input('E-mail: ')\n",
    "    telefone = input('Telefone: ')\n",
    "    return nome, email, telefone"
   ]
  },
  {
   "cell_type": "code",
   "execution_count": 2,
   "metadata": {},
   "outputs": [
    {
     "name": "stdout",
     "output_type": "stream",
     "text": [
      "Informe os dados de cadastro\n",
      "Nome: Thaís Ribeiro\n",
      "E-mail: thais@thais.com\n",
      "Telefone: 86 9999999\n"
     ]
    },
    {
     "data": {
      "text/plain": [
       "('Thaís Ribeiro', 'thais@thais.com', '86 9999999')"
      ]
     },
     "execution_count": 2,
     "metadata": {},
     "output_type": "execute_result"
    }
   ],
   "source": [
    "criar_contato()"
   ]
  },
  {
   "cell_type": "code",
   "execution_count": null,
   "metadata": {},
   "outputs": [],
   "source": []
  }
 ],
 "metadata": {
  "kernelspec": {
   "display_name": "Python 3",
   "language": "python",
   "name": "python3"
  },
  "language_info": {
   "codemirror_mode": {
    "name": "ipython",
    "version": 3
   },
   "file_extension": ".py",
   "mimetype": "text/x-python",
   "name": "python",
   "nbconvert_exporter": "python",
   "pygments_lexer": "ipython3",
   "version": "3.7.2"
  }
 },
 "nbformat": 4,
 "nbformat_minor": 4
}
