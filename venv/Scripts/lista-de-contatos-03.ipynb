{
 "cells": [
  {
   "cell_type": "code",
   "execution_count": 7,
   "metadata": {},
   "outputs": [],
   "source": [
    "def criar_contato():\n",
    "    print('Informe os dados de cadastro')\n",
    "    nome = input('Nome: ')\n",
    "    email = input('E-mail: ')\n",
    "    telefone = input('Telefone: ')\n",
    "    return nome, email, telefone"
   ]
  },
  {
   "cell_type": "code",
   "execution_count": 8,
   "metadata": {},
   "outputs": [],
   "source": [
    "def salvar_contato(nome, email, telefone):\n",
    "    arquivo = open('contatos.csv', 'w')\n",
    "    arquivo.write('%s, %s, %s' % (nome, email, telefone))\n",
    "    arquivo.flush()\n",
    "    arquivo.close()"
   ]
  },
  {
   "cell_type": "code",
   "execution_count": 9,
   "metadata": {},
   "outputs": [
    {
     "name": "stdout",
     "output_type": "stream",
     "text": [
      "Informe os dados de cadastro\n",
      "Nome: thais ribeiro\n",
      "E-mail: thais@thais\n",
      "Telefone: 86 9999\n"
     ]
    }
   ],
   "source": [
    "nome, email, telefone = criar_contato()"
   ]
  },
  {
   "cell_type": "code",
   "execution_count": 14,
   "metadata": {},
   "outputs": [],
   "source": [
    "salvar_contato(telefone=telefone, nome=nome, email=email)"
   ]
  },
  {
   "cell_type": "code",
   "execution_count": 11,
   "metadata": {},
   "outputs": [],
   "source": [
    "def salvar_contato(nome, email, telefone):\n",
    "    arquivo = open('contatos.csv', 'a')\n",
    "    arquivo.write('%s, %s, %s\\n' % (nome, email, telefone))\n",
    "    arquivo.flush()\n",
    "    arquivo.close()"
   ]
  },
  {
   "cell_type": "code",
   "execution_count": 12,
   "metadata": {},
   "outputs": [
    {
     "name": "stdout",
     "output_type": "stream",
     "text": [
      "Informe os dados de cadastro\n",
      "Nome: andressa\n",
      "E-mail: an@and.com\n",
      "Telefone: 86 99999\n"
     ]
    }
   ],
   "source": [
    "nome, email, telefone = criar_contato()"
   ]
  },
  {
   "cell_type": "code",
   "execution_count": 13,
   "metadata": {},
   "outputs": [],
   "source": [
    "salvar_contato(nome, telefone, email)"
   ]
  },
  {
   "cell_type": "code",
   "execution_count": null,
   "metadata": {},
   "outputs": [],
   "source": []
  }
 ],
 "metadata": {
  "kernelspec": {
   "display_name": "Python 3",
   "language": "python",
   "name": "python3"
  },
  "language_info": {
   "codemirror_mode": {
    "name": "ipython",
    "version": 3
   },
   "file_extension": ".py",
   "mimetype": "text/x-python",
   "name": "python",
   "nbconvert_exporter": "python",
   "pygments_lexer": "ipython3",
   "version": "3.7.2"
  }
 },
 "nbformat": 4,
 "nbformat_minor": 4
}
