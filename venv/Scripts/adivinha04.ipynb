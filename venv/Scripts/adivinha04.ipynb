{
 "cells": [
  {
   "cell_type": "markdown",
   "metadata": {},
   "source": [
    "# Jogo de adivinhação com While"
   ]
  },
  {
   "cell_type": "code",
   "execution_count": null,
   "metadata": {},
   "outputs": [],
   "source": [
    "numero = 50\n",
    "chute = input('Digite um número entre 0 e 100: ')\n",
    "chute = int(chute)"
   ]
  },
  {
   "cell_type": "code",
   "execution_count": 1,
   "metadata": {},
   "outputs": [],
   "source": [
    "contador = 0\n",
    "while contador > 5:\n",
    "    numero = 50\n",
    "    chute = input('Digite um número entre 0 e 100: ')\n",
    "    chute = int(chute)\n",
    "    diferenca = numero - chute \n",
    "    if diferenca == 0:\n",
    "        print('Você acertou!')\n",
    "        break\n",
    "    elif diferenca > 0:\n",
    "        if diferenca <= 10:\n",
    "            print(\"Você errou, o valor é maior (está quente)\")\n",
    "        else:\n",
    "            print(\"Você errou, o valor é menor (está frio)\")\n",
    "    else:\n",
    "        if abs(diferenca) <= 10:\n",
    "            print(\"Você errou, o valor é menor (está quente)\")\n",
    "        else:\n",
    "            print(\"Você errou, o valor é maior (está frio)\")\n",
    "    contador = contador + 1"
   ]
  },
  {
   "cell_type": "code",
   "execution_count": null,
   "metadata": {},
   "outputs": [],
   "source": [
    "contador = 0\n",
    "while contador < 5:\n",
    "    print(contador)\n",
    "    contador = contador + 1\n",
    "print('Acabou')"
   ]
  },
  {
   "cell_type": "code",
   "execution_count": null,
   "metadata": {},
   "outputs": [],
   "source": []
  }
 ],
 "metadata": {
  "kernelspec": {
   "display_name": "Python 3",
   "language": "python",
   "name": "python3"
  },
  "language_info": {
   "codemirror_mode": {
    "name": "ipython",
    "version": 3
   },
   "file_extension": ".py",
   "mimetype": "text/x-python",
   "name": "python",
   "nbconvert_exporter": "python",
   "pygments_lexer": "ipython3",
   "version": "3.7.2"
  }
 },
 "nbformat": 4,
 "nbformat_minor": 4
}
