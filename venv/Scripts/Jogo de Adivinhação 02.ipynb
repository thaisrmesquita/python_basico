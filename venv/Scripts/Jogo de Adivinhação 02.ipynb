{
 "cells": [
  {
   "cell_type": "markdown",
   "metadata": {},
   "source": [
    "# Jogo de Adivinhação 02"
   ]
  },
  {
   "cell_type": "code",
   "execution_count": 8,
   "metadata": {},
   "outputs": [
    {
     "name": "stdout",
     "output_type": "stream",
     "text": [
      "Digite o seu chute: 10\n"
     ]
    }
   ],
   "source": [
    "numero = 50\n",
    "chute = input('Digite o seu chute: ')\n",
    "chute = int(chute)"
   ]
  },
  {
   "cell_type": "code",
   "execution_count": 9,
   "metadata": {},
   "outputs": [
    {
     "name": "stdout",
     "output_type": "stream",
     "text": [
      "Você errou! O número é maior!\n"
     ]
    }
   ],
   "source": [
    "if chute == numero:\n",
    "    print('Parabéns! Você acertou!')\n",
    "else:\n",
    "    diferenca = numero - chute\n",
    "    if(diferenca > 0):\n",
    "        print('Você errou! O número é maior!')\n",
    "    else:\n",
    "        print('Você errou! O número é menor!')"
   ]
  },
  {
   "cell_type": "code",
   "execution_count": null,
   "metadata": {},
   "outputs": [],
   "source": [
    "  diferenca = numero - chute\n",
    "    if(diferenca == 0):\n",
    "        print()\n",
    "    if(diferenca > 0):\n",
    "        print('Você errou! O número é maior!')\n",
    "    else:\n",
    "        print('Você errou! O número é menor!')"
   ]
  }
 ],
 "metadata": {
  "kernelspec": {
   "display_name": "Python 3",
   "language": "python",
   "name": "python3"
  },
  "language_info": {
   "codemirror_mode": {
    "name": "ipython",
    "version": 3
   },
   "file_extension": ".py",
   "mimetype": "text/x-python",
   "name": "python",
   "nbconvert_exporter": "python",
   "pygments_lexer": "ipython3",
   "version": "3.7.2"
  }
 },
 "nbformat": 4,
 "nbformat_minor": 4
}
