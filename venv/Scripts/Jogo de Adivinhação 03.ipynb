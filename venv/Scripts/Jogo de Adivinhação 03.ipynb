{
 "cells": [
  {
   "cell_type": "markdown",
   "metadata": {},
   "source": [
    "# Jogo de Adivinhação 03"
   ]
  },
  {
   "cell_type": "code",
   "execution_count": 4,
   "metadata": {},
   "outputs": [
    {
     "name": "stdout",
     "output_type": "stream",
     "text": [
      "Digite um número entre 0 e 100: 10\n"
     ]
    }
   ],
   "source": [
    "numero = 50\n",
    "chute = input('Digite um número entre 0 e 100: ')\n",
    "chute = int(chute)"
   ]
  },
  {
   "cell_type": "code",
   "execution_count": 5,
   "metadata": {},
   "outputs": [
    {
     "name": "stdout",
     "output_type": "stream",
     "text": [
      "Você errou, o valor é menor (está frio)\n"
     ]
    }
   ],
   "source": [
    "diferenca = numero - chute \n",
    "if diferenca == 0:\n",
    "    print('Você acerto!')\n",
    "elif diferenca > 0:\n",
    "    if diferenca <= 10:\n",
    "        print(\"Você errou, o valor é maior (está quente)\")\n",
    "    else:\n",
    "        print(\"Você errou, o valor é menor (está frio)\")\n",
    "else:\n",
    "    if abs(diferenca) <= 10:\n",
    "        print(\"Você errou, o valor é menor (está quente)\")\n",
    "    else:\n",
    "        print(\"Você errou, o valor é maior (está frio)\")"
   ]
  },
  {
   "cell_type": "code",
   "execution_count": null,
   "metadata": {},
   "outputs": [],
   "source": []
  }
 ],
 "metadata": {
  "kernelspec": {
   "display_name": "Python 3",
   "language": "python",
   "name": "python3"
  },
  "language_info": {
   "codemirror_mode": {
    "name": "ipython",
    "version": 3
   },
   "file_extension": ".py",
   "mimetype": "text/x-python",
   "name": "python",
   "nbconvert_exporter": "python",
   "pygments_lexer": "ipython3",
   "version": "3.7.2"
  }
 },
 "nbformat": 4,
 "nbformat_minor": 4
}
