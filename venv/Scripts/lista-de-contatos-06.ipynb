{
 "cells": [
  {
   "cell_type": "code",
   "execution_count": 12,
   "metadata": {},
   "outputs": [],
   "source": [
    "def criar_contato(*args):\n",
    "    print('Digite as informações do contato')\n",
    "    info = {}\n",
    "    for arg in args:\n",
    "        info[arg] = input('Digite %s: ' % arg)\n",
    "    return info"
   ]
  },
  {
   "cell_type": "code",
   "execution_count": 13,
   "metadata": {},
   "outputs": [],
   "source": [
    "def salvar_contato(**kwargs):\n",
    "    arquivo = open('contatos.csv', 'a')\n",
    "    arquivo.write(','.join(kwargs.values()))\n",
    "    arquivo.write('\\n')\n",
    "    arquivo.flush()\n",
    "    arquivo.close()"
   ]
  },
  {
   "cell_type": "code",
   "execution_count": 14,
   "metadata": {},
   "outputs": [
    {
     "data": {
      "text/plain": [
       "['banana', 'maçã', 'moramgo', 'uva']"
      ]
     },
     "execution_count": 14,
     "metadata": {},
     "output_type": "execute_result"
    }
   ],
   "source": [
    "'banana,maçã,moramgo,uva'.split(',')"
   ]
  },
  {
   "cell_type": "code",
   "execution_count": 16,
   "metadata": {},
   "outputs": [
    {
     "name": "stdout",
     "output_type": "stream",
     "text": [
      "Quantos contatos deseja cadastrar?3\n",
      "Digite os campos separados por vírgula: nome\n",
      "Digite as informações do contato\n",
      "Digite nome: edilson\n",
      "Digite as informações do contato\n",
      "Digite nome: debora\n",
      "Digite as informações do contato\n",
      "Digite nome: vera\n"
     ]
    }
   ],
   "source": [
    "quantidade = input('Quantos contatos deseja cadastrar?')\n",
    "quantidade = int(quantidade)\n",
    "campos = input('Digite os campos separados por vírgula: ')\n",
    "campos = campos.split(',')\n",
    "for i in range(quantidade):\n",
    "    contato = criar_contato(*campos)\n",
    "    salvar_contato(**contato)"
   ]
  },
  {
   "cell_type": "code",
   "execution_count": null,
   "metadata": {},
   "outputs": [],
   "source": []
  }
 ],
 "metadata": {
  "kernelspec": {
   "display_name": "Python 3",
   "language": "python",
   "name": "python3"
  },
  "language_info": {
   "codemirror_mode": {
    "name": "ipython",
    "version": 3
   },
   "file_extension": ".py",
   "mimetype": "text/x-python",
   "name": "python",
   "nbconvert_exporter": "python",
   "pygments_lexer": "ipython3",
   "version": "3.7.2"
  }
 },
 "nbformat": 4,
 "nbformat_minor": 4
}
