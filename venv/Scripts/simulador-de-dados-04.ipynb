{
 "cells": [
  {
   "cell_type": "code",
   "execution_count": 7,
   "metadata": {},
   "outputs": [],
   "source": [
    "import random\n",
    "import statistics"
   ]
  },
  {
   "cell_type": "code",
   "execution_count": 9,
   "metadata": {},
   "outputs": [],
   "source": [
    "def gerar_numeros(faces):\n",
    "    dados = input(\"Digite o número de dados: \")\n",
    "    dados = int(dados)\n",
    "    numeros = []\n",
    "    for i in range(dados):\n",
    "        numero = random.randint(1, faces)\n",
    "        numeros.append(numero)\n",
    "        print(\"Seu número é %s \" % numero)\n",
    "    print('A soma é: %s' % sum(numeros))\n",
    "    print('O valor máximo é: %s' % max(numeros))\n",
    "    print('O valor mínimo é: %s' % min(numeros))\n",
    "    print('O valor mediano é: %s' % statistics.mean(numeros))"
   ]
  },
  {
   "cell_type": "code",
   "execution_count": null,
   "metadata": {},
   "outputs": [
    {
     "name": "stdout",
     "output_type": "stream",
     "text": [
      "Digite o número de faces (ou 'parar' para acabar o programa): 2\n",
      "Digite o número de dados: 3\n",
      "Seu número é 1 \n",
      "Seu número é 2 \n",
      "Seu número é 1 \n",
      "A soma é: 4\n",
      "O valor máximo é: 2\n",
      "O valor mínimo é: 1\n",
      "O valor mediano é: 1.3333333333333333\n"
     ]
    }
   ],
   "source": [
    "continua = True\n",
    "while continua:\n",
    "    faces = input(\"Digite o número de faces (ou 'parar' para acabar o programa): \")\n",
    "    if faces == 'parar':\n",
    "        continua = False\n",
    "    else:\n",
    "        faces = int(faces)\n",
    "        gerar_numeros(faces)\n",
    "print('Finalizou programa!')"
   ]
  },
  {
   "cell_type": "code",
   "execution_count": null,
   "metadata": {},
   "outputs": [],
   "source": []
  }
 ],
 "metadata": {
  "kernelspec": {
   "display_name": "Python 3",
   "language": "python",
   "name": "python3"
  },
  "language_info": {
   "codemirror_mode": {
    "name": "ipython",
    "version": 3
   },
   "file_extension": ".py",
   "mimetype": "text/x-python",
   "name": "python",
   "nbconvert_exporter": "python",
   "pygments_lexer": "ipython3",
   "version": "3.7.2"
  }
 },
 "nbformat": 4,
 "nbformat_minor": 4
}
